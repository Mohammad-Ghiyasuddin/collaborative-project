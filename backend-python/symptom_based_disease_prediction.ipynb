{
 "cells": [
  {
   "cell_type": "code",
   "execution_count": 1,
   "id": "721ba53d",
   "metadata": {},
   "outputs": [],
   "source": [
    "import pandas as pd\n",
    "from sklearn.model_selection import train_test_split\n",
    "from sklearn.feature_extraction.text import CountVectorizer\n",
    "from sklearn.ensemble import RandomForestClassifier  # Import RandomForestClassifier\n",
    "from sklearn.pipeline import make_pipeline\n",
    "from joblib import dump, load"
   ]
  },
  {
   "cell_type": "code",
   "execution_count": 6,
   "id": "7c27796c",
   "metadata": {},
   "outputs": [
    {
     "name": "stdout",
     "output_type": "stream",
     "text": [
      "Model Accuracy: 1.0\n",
      "Enter symptoms (comma-separated): wateirng from eyes\n",
      "Predicted Disease: Bronchial Asthma\n"
     ]
    }
   ],
   "source": [
    "def preprocess_data(data):\n",
    "    symptoms_columns = [f'Symptom_{i}' for i in range(1, 11)]\n",
    "    data['Combined_Symptoms'] = data[symptoms_columns].apply(lambda row: ', '.join(filter(None, map(str, row))), axis=1)\n",
    "    return data[['Combined_Symptoms', 'Disease']].drop_duplicates()\n",
    "\n",
    "def train_model(data):\n",
    "    X_train, X_test, y_train, y_test = train_test_split(data['Combined_Symptoms'], data['Disease'], test_size=0.2, random_state=42)\n",
    "\n",
    "    # Use RandomForestClassifier instead of DecisionTreeClassifier\n",
    "    model = make_pipeline(CountVectorizer(), RandomForestClassifier(n_estimators=200, random_state=42))\n",
    "    model.fit(X_train, y_train)\n",
    "\n",
    "    accuracy = model.score(X_test, y_test)\n",
    "    print(f'Model Accuracy: {accuracy}')\n",
    "\n",
    "    return model\n",
    "\n",
    "\n",
    "def predict_disease(model, symptoms):\n",
    "    return model.predict([symptoms])[0]\n",
    "\n",
    "def save_model(model, filename='disease_prediction_model.joblib'):\n",
    "    dump(model, filename)\n",
    "\n",
    "def load_model(filename='disease_prediction_model.joblib'):\n",
    "    return load(filename)\n",
    "\n",
    "if __name__ == '__main__':\n",
    "    # Load your dataset from the CSV file\n",
    "    dataset = pd.read_csv('dataset.csv')\n",
    "\n",
    "    # Preprocess the data\n",
    "    preprocessed_data = preprocess_data(dataset)\n",
    "\n",
    "    # Train the model\n",
    "    trained_model = train_model(preprocessed_data)\n",
    "\n",
    "    # Save the trained model for future use\n",
    "    save_model(trained_model)\n",
    "\n",
    "    # Example of how to load the model and make a prediction\n",
    "    loaded_model = load_model()\n",
    "    symptoms_input = input('Enter symptoms (comma-separated): ')\n",
    "    predicted_disease = predict_disease(loaded_model, symptoms_input)\n",
    "\n",
    "    print(f'Predicted Disease: {predicted_disease}')"
   ]
  },
  {
   "cell_type": "code",
   "execution_count": null,
   "id": "451d7977",
   "metadata": {},
   "outputs": [],
   "source": []
  }
 ],
 "metadata": {
  "kernelspec": {
   "display_name": "Python 3 (ipykernel)",
   "language": "python",
   "name": "python3"
  },
  "language_info": {
   "codemirror_mode": {
    "name": "ipython",
    "version": 3
   },
   "file_extension": ".py",
   "mimetype": "text/x-python",
   "name": "python",
   "nbconvert_exporter": "python",
   "pygments_lexer": "ipython3",
   "version": "3.11.1"
  }
 },
 "nbformat": 4,
 "nbformat_minor": 5
}
